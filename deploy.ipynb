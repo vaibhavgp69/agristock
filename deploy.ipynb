{
  "nbformat": 4,
  "nbformat_minor": 0,
  "metadata": {
    "colab": {
      "provenance": [],
      "authorship_tag": "ABX9TyPHBJW+UfVSgihmwAy4QkYW",
      "include_colab_link": true
    },
    "kernelspec": {
      "name": "python3",
      "display_name": "Python 3"
    },
    "language_info": {
      "name": "python"
    }
  },
  "cells": [
    {
      "cell_type": "markdown",
      "metadata": {
        "id": "view-in-github",
        "colab_type": "text"
      },
      "source": [
        "<a href=\"https://colab.research.google.com/github/vaibhavgp69/agristock/blob/main/deploy.ipynb\" target=\"_parent\"><img src=\"https://colab.research.google.com/assets/colab-badge.svg\" alt=\"Open In Colab\"/></a>"
      ]
    },
    {
      "cell_type": "code",
      "execution_count": null,
      "metadata": {
        "id": "Y8UXR-1fCI-r"
      },
      "outputs": [],
      "source": [
        "import os\n",
        "import joblib\n",
        "import torch\n",
        "\n",
        "import pandas as pd"
      ]
    },
    {
      "cell_type": "code",
      "source": [
        "from google.colab import drive\n",
        "drive.mount('/content/drive')"
      ],
      "metadata": {
        "colab": {
          "base_uri": "https://localhost:8080/"
        },
        "id": "PUjPpEFAMd1T",
        "outputId": "d2bafaf1-5fa4-4965-ed96-31a7c5951f37"
      },
      "execution_count": null,
      "outputs": [
        {
          "output_type": "stream",
          "name": "stdout",
          "text": [
            "Mounted at /content/drive\n"
          ]
        }
      ]
    },
    {
      "cell_type": "code",
      "source": [
        "from joblib import load\n",
        "\n",
        "# Load the model from Google Drive\n",
        "from google.colab import drive\n",
        "drive.mount('/content/gdrive')\n",
        "model = load(\"/content/gdrive/My Drive/hacakthon/agri_pred.joblib\")"
      ],
      "metadata": {
        "colab": {
          "base_uri": "https://localhost:8080/"
        },
        "id": "ijckkJyCEC9F",
        "outputId": "9d1c07f1-e935-4163-b989-e801521447bf"
      },
      "execution_count": null,
      "outputs": [
        {
          "output_type": "stream",
          "name": "stdout",
          "text": [
            "Mounted at /content/gdrive\n"
          ]
        }
      ]
    },
    {
      "cell_type": "code",
      "source": [
        "import pandas as pd\n",
        "x=['0','2023','2','95','1200']\n",
        "x=pd.DataFrame(x).transpose()\n",
        "model.predict(x)"
      ],
      "metadata": {
        "id": "zEw0fYFrGdEX",
        "colab": {
          "base_uri": "https://localhost:8080/"
        },
        "outputId": "dab78107-5160-4f3c-9e3a-a666e17940d3"
      },
      "execution_count": null,
      "outputs": [
        {
          "output_type": "execute_result",
          "data": {
            "text/plain": [
              "array([1730.33272727])"
            ]
          },
          "metadata": {},
          "execution_count": 3
        }
      ]
    },
    {
      "cell_type": "code",
      "source": [
        "\n",
        "x=['Odisha','2013','Rabi','Potato','10000']\n",
        "\n",
        "\n",
        "\n",
        "\n",
        "states = ['Andaman and Nicobar Islands', 'Andhra Pradesh',\n",
        "       'Arunachal Pradesh', 'Assam', 'Bihar', 'Chandigarh',\n",
        "       'Chhattisgarh', 'Dadra and Nagar Haveli', 'Goa', 'Gujarat',\n",
        "       'Haryana', 'Himachal Pradesh', 'Jammu and Kashmir ', 'Jharkhand',\n",
        "       'Karnataka', 'Kerala', 'Madhya Pradesh', 'Maharashtra', 'Manipur',\n",
        "       'Meghalaya', 'Mizoram', 'Nagaland', 'Odisha', 'Puducherry',\n",
        "       'Punjab', 'Rajasthan', 'Sikkim', 'Tamil Nadu', 'Telangana ',\n",
        "       'Tripura', 'Uttar Pradesh', 'Uttarakhand', 'West Bengal']\n",
        "\n",
        "\n",
        "key1 = x[0]\n",
        "\n",
        "X = []\n",
        "year = int(x[1])\n",
        "\n",
        "for i, state in enumerate(states):\n",
        "    if state == key1:\n",
        "        X.insert(0, i)\n",
        "        X.insert(1, year)\n",
        "        break\n",
        "\n",
        "seasons = ['Kharif', 'Whole Year', 'Autumn', 'Rabi',\n",
        "       'Summer', 'Winter']\n",
        "\n",
        "\n",
        "key_season = x[2]\n",
        "\n",
        "for i, season in enumerate(seasons):\n",
        "    if season == key_season:\n",
        "        X.insert(2, i)\n",
        "        break\n",
        "\n",
        "crops = ['Arecanut', 'Other Kharif pulses', 'Rice', 'Banana', 'Cashewnut',\n",
        "       'Coconut ', 'Dry ginger', 'Sugarcane', 'Sweet potato', 'Tapioca',\n",
        "       'Black pepper', 'Dry chillies', 'other oilseeds', 'Turmeric',\n",
        "       'Maize', 'Moong(Green Gram)', 'Urad', 'Arhar/Tur', 'Groundnut',\n",
        "       'Sunflower', 'Bajra', 'Castor seed', 'Cotton(lint)', 'Horse-gram',\n",
        "       'Jowar', 'Korra', 'Ragi', 'Tobacco', 'Gram', 'Wheat', 'Masoor',\n",
        "       'Sesamum', 'Linseed', 'Safflower', 'Onion', 'other misc. pulses',\n",
        "       'Samai', 'Small millets', 'Coriander', 'Potato',\n",
        "       'Other  Rabi pulses', 'Soyabean', 'Beans & Mutter(Vegetable)',\n",
        "       'Bhindi', 'Brinjal', 'Citrus Fruit', 'Cucumber', 'Grapes', 'Mango',\n",
        "       'Orange', 'other fibres', 'Other Fresh Fruits', 'Other Vegetables',\n",
        "       'Papaya', 'Pome Fruit', 'Tomato', 'Mesta', 'Cowpea(Lobia)',\n",
        "       'Lemon', 'Pome Granet', 'Sapota', 'Cabbage', 'Rapeseed &Mustard',\n",
        "       'Peas  (vegetable)', 'Niger seed', 'Bottle Gourd', 'Varagu',\n",
        "       'Garlic', 'Ginger', 'Oilseeds total', 'Pulses total', 'Jute',\n",
        "       'Peas & beans (Pulses)', 'Blackgram', 'Paddy', 'Pineapple',\n",
        "       'Barley', 'Sannhamp', 'Khesari', 'Guar seed', 'Moth',\n",
        "       'Other Cereals & Millets', 'Cond-spcs other', 'Turnip', 'Carrot',\n",
        "       'Redish', 'Arcanut (Processed)', 'Atcanut (Raw)',\n",
        "       'Cashewnut Processed', 'Cashewnut Raw', 'Cardamom', 'Rubber',\n",
        "       'Bitter Gourd', 'Drum Stick', 'Jack Fruit', 'Snak Guard', 'Tea',\n",
        "       'Coffee', 'Cauliflower', 'Other Citrus Fruit', 'Water Melon',\n",
        "       'Total foodgrain', 'Kapas', 'Colocosia', 'Lentil', 'Bean',\n",
        "       'Jobster', 'Perilla', 'Rajmash Kholar', 'Ricebean (nagadal)',\n",
        "       'Ash Gourd', 'Beet Root', 'Lab-Lab', 'Ribed Guard', 'Yam',\n",
        "       'Pump Kin', 'Apple', 'Peach', 'Pear', 'Plums', 'Litchi', 'Ber',\n",
        "       'Other Dry Fruit', 'Jute & mesta']\n",
        "\n",
        "\n",
        "key_crop = x[3]\n",
        "\n",
        "for i, crop in enumerate(crops):\n",
        "    if crop == key_crop:\n",
        "        X.insert(3, i)\n",
        "        break\n",
        "\n",
        "area = int(x[4])\n",
        "X.append(area)\n",
        "X\n"
      ],
      "metadata": {
        "colab": {
          "base_uri": "https://localhost:8080/"
        },
        "id": "Jqhjs1l7RNM5",
        "outputId": "38bc1036-590a-45ac-ebcc-5e3164de2a98"
      },
      "execution_count": null,
      "outputs": [
        {
          "output_type": "execute_result",
          "data": {
            "text/plain": [
              "[22, 2013, 3, 39, 10000]"
            ]
          },
          "metadata": {},
          "execution_count": 22
        }
      ]
    },
    {
      "cell_type": "code",
      "source": [
        "X=pd.DataFrame(X).transpose()\n",
        "y_pred= model.predict(X)\n",
        "print(f\"Yield Predicted in {key1} on the year {year} in the season {key_season} for the crop {key_crop} for given area {area} is :  {y_pred[0]}\")"
      ],
      "metadata": {
        "colab": {
          "base_uri": "https://localhost:8080/"
        },
        "id": "ZqaV6uMxSk_q",
        "outputId": "1d865d12-eea9-4556-abe8-ad4b08b34aaa"
      },
      "execution_count": null,
      "outputs": [
        {
          "output_type": "stream",
          "name": "stdout",
          "text": [
            "Yield Predicted in Odisha on the year 2013 in the season Rabi for the crop Potato for given area 10000 is :  16549.94545454545\n"
          ]
        }
      ]
    }
  ]
}